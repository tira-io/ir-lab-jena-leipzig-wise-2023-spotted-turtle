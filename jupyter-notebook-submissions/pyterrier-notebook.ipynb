{
 "cells": [
  {
   "cell_type": "markdown",
   "metadata": {},
   "source": [
    "# PyTerrier Notebook for Full-Rank Submissions\n",
    "\n",
    "This notebook serves as a baseline full-rank submission for [TIRA](https://tira.io)/[TIREx](https://tira.io/tirex) that builds a PyTerrier index and subsequently creates a run with BM25."
   ]
  },
  {
   "cell_type": "markdown",
   "metadata": {},
   "source": [
    "### Step 1: Ensure Libraries are Imported"
   ]
  },
  {
   "cell_type": "code",
   "execution_count": 3,
   "metadata": {},
   "outputs": [
    {
     "name": "stderr",
     "output_type": "stream",
     "text": [
      "96.48s - pydevd: Sending message related to process being replaced timed-out after 5 seconds\n"
     ]
    },
    {
     "name": "stdout",
     "output_type": "stream",
     "text": [
      "Requirement already satisfied: python-terrier in /opt/conda/lib/python3.7/site-packages (0.9.2)\n",
      "Requirement already satisfied: tira==0.0.88 in /opt/conda/lib/python3.7/site-packages (0.0.88)\n",
      "Requirement already satisfied: ir_datasets in /opt/conda/lib/python3.7/site-packages (0.5.4)\n",
      "Requirement already satisfied: pandas in /opt/conda/lib/python3.7/site-packages (from tira==0.0.88) (1.3.5)\n",
      "Requirement already satisfied: requests==2.*,>=2.26 in /opt/conda/lib/python3.7/site-packages (from tira==0.0.88) (2.28.1)\n",
      "Requirement already satisfied: docker==6.*,>=6.0.0 in /opt/conda/lib/python3.7/site-packages (from tira==0.0.88) (6.0.1)\n",
      "Requirement already satisfied: packaging>=14.0 in /opt/conda/lib/python3.7/site-packages (from docker==6.*,>=6.0.0->tira==0.0.88) (22.0)\n",
      "Requirement already satisfied: websocket-client>=0.32.0 in /opt/conda/lib/python3.7/site-packages (from docker==6.*,>=6.0.0->tira==0.0.88) (1.4.2)\n",
      "Requirement already satisfied: urllib3>=1.26.0 in /opt/conda/lib/python3.7/site-packages (from docker==6.*,>=6.0.0->tira==0.0.88) (1.26.8)\n",
      "Requirement already satisfied: charset-normalizer<3,>=2 in /opt/conda/lib/python3.7/site-packages (from requests==2.*,>=2.26->tira==0.0.88) (2.0.4)\n",
      "Requirement already satisfied: certifi>=2017.4.17 in /opt/conda/lib/python3.7/site-packages (from requests==2.*,>=2.26->tira==0.0.88) (2022.6.15)\n",
      "Requirement already satisfied: idna<4,>=2.5 in /opt/conda/lib/python3.7/site-packages (from requests==2.*,>=2.26->tira==0.0.88) (3.3)\n",
      "Requirement already satisfied: scikit-learn in /opt/conda/lib/python3.7/site-packages (from python-terrier) (1.0.2)\n",
      "Requirement already satisfied: chest in /opt/conda/lib/python3.7/site-packages (from python-terrier) (0.2.3)\n",
      "Requirement already satisfied: scipy in /opt/conda/lib/python3.7/site-packages (from python-terrier) (1.7.3)\n",
      "Requirement already satisfied: more-itertools in /opt/conda/lib/python3.7/site-packages (from python-terrier) (9.0.0)\n",
      "Requirement already satisfied: deprecated in /opt/conda/lib/python3.7/site-packages (from python-terrier) (1.2.13)\n",
      "Requirement already satisfied: numpy in /opt/conda/lib/python3.7/site-packages (from python-terrier) (1.21.5)\n",
      "Requirement already satisfied: joblib in /opt/conda/lib/python3.7/site-packages (from python-terrier) (1.2.0)\n",
      "Requirement already satisfied: wget in /opt/conda/lib/python3.7/site-packages (from python-terrier) (3.2)\n",
      "Requirement already satisfied: tqdm in /opt/conda/lib/python3.7/site-packages (from python-terrier) (4.63.0)\n",
      "Requirement already satisfied: nptyping==1.4.4 in /opt/conda/lib/python3.7/site-packages (from python-terrier) (1.4.4)\n",
      "Requirement already satisfied: jinja2 in /opt/conda/lib/python3.7/site-packages (from python-terrier) (3.1.2)\n",
      "Requirement already satisfied: pyjnius>=1.4.2 in /opt/conda/lib/python3.7/site-packages (from python-terrier) (1.4.2)\n",
      "Requirement already satisfied: statsmodels in /opt/conda/lib/python3.7/site-packages (from python-terrier) (0.13.5)\n",
      "Requirement already satisfied: dill in /opt/conda/lib/python3.7/site-packages (from python-terrier) (0.3.6)\n",
      "Requirement already satisfied: ir-measures>=0.3.1 in /opt/conda/lib/python3.7/site-packages (from python-terrier) (0.3.1)\n",
      "Requirement already satisfied: matchpy in /opt/conda/lib/python3.7/site-packages (from python-terrier) (0.5.5)\n",
      "Requirement already satisfied: pytrec-eval-terrier>=0.5.3 in /opt/conda/lib/python3.7/site-packages (from python-terrier) (0.5.5)\n",
      "Requirement already satisfied: typish>=1.7.0 in /opt/conda/lib/python3.7/site-packages (from nptyping==1.4.4->python-terrier) (1.9.3)\n",
      "Requirement already satisfied: beautifulsoup4>=4.4.1 in /opt/conda/lib/python3.7/site-packages (from ir_datasets) (4.11.1)\n",
      "Requirement already satisfied: lz4>=3.1.1 in /opt/conda/lib/python3.7/site-packages (from ir_datasets) (4.3.2)\n",
      "Requirement already satisfied: trec-car-tools>=2.5.4 in /opt/conda/lib/python3.7/site-packages (from ir_datasets) (2.6)\n",
      "Requirement already satisfied: unlzw3>=0.2.1 in /opt/conda/lib/python3.7/site-packages (from ir_datasets) (0.2.2)\n",
      "Requirement already satisfied: lxml>=4.5.2 in /opt/conda/lib/python3.7/site-packages (from ir_datasets) (4.9.2)\n",
      "Requirement already satisfied: pyyaml>=5.3.1 in /opt/conda/lib/python3.7/site-packages (from ir_datasets) (6.0)\n",
      "Requirement already satisfied: warc3-wet>=0.2.3 in /opt/conda/lib/python3.7/site-packages (from ir_datasets) (0.2.3)\n",
      "Requirement already satisfied: zlib-state>=0.1.3 in /opt/conda/lib/python3.7/site-packages (from ir_datasets) (0.1.5)\n",
      "Requirement already satisfied: warc3-wet-clueweb09>=0.2.5 in /opt/conda/lib/python3.7/site-packages (from ir_datasets) (0.2.5)\n",
      "Requirement already satisfied: ijson>=3.1.3 in /opt/conda/lib/python3.7/site-packages (from ir_datasets) (3.2.0.post0)\n",
      "Requirement already satisfied: pyautocorpus>=0.1.1 in /opt/conda/lib/python3.7/site-packages (from ir_datasets) (0.1.9)\n",
      "Requirement already satisfied: soupsieve>1.2 in /opt/conda/lib/python3.7/site-packages (from beautifulsoup4>=4.4.1->ir_datasets) (2.3.1)\n",
      "Requirement already satisfied: cwl-eval>=1.0.10 in /opt/conda/lib/python3.7/site-packages (from ir-measures>=0.3.1->python-terrier) (1.0.12)\n",
      "Requirement already satisfied: six>=1.7.0 in /opt/conda/lib/python3.7/site-packages (from pyjnius>=1.4.2->python-terrier) (1.16.0)\n",
      "Requirement already satisfied: cbor>=1.0.0 in /opt/conda/lib/python3.7/site-packages (from trec-car-tools>=2.5.4->ir_datasets) (1.0.0)\n",
      "Requirement already satisfied: heapdict in /opt/conda/lib/python3.7/site-packages (from chest->python-terrier) (1.0.1)\n",
      "Requirement already satisfied: wrapt<2,>=1.10 in /opt/conda/lib/python3.7/site-packages (from deprecated->python-terrier) (1.14.1)\n",
      "Requirement already satisfied: MarkupSafe>=2.0 in /opt/conda/lib/python3.7/site-packages (from jinja2->python-terrier) (2.0.1)\n",
      "Requirement already satisfied: multiset<3.0,>=2.0 in /opt/conda/lib/python3.7/site-packages (from matchpy->python-terrier) (2.1.1)\n",
      "Requirement already satisfied: python-dateutil>=2.7.3 in /opt/conda/lib/python3.7/site-packages (from pandas->tira==0.0.88) (2.8.2)\n",
      "Requirement already satisfied: pytz>=2017.3 in /opt/conda/lib/python3.7/site-packages (from pandas->tira==0.0.88) (2022.1)\n",
      "Requirement already satisfied: threadpoolctl>=2.0.0 in /opt/conda/lib/python3.7/site-packages (from scikit-learn->python-terrier) (3.1.0)\n",
      "Requirement already satisfied: patsy>=0.5.2 in /opt/conda/lib/python3.7/site-packages (from statsmodels->python-terrier) (0.5.3)\n",
      "\u001b[33mWARNING: Running pip as the 'root' user can result in broken permissions and conflicting behaviour with the system package manager. It is recommended to use a virtual environment instead: https://pip.pypa.io/warnings/venv\u001b[0m\n"
     ]
    }
   ],
   "source": [
    "import os\n",
    "import math\n",
    "\n",
    "# Detect if we are in the TIRA sandbox\n",
    "# Install the required dependencies if we are not in the sandbox.\n",
    "if 'TIRA_DATASET_ID' not in os.environ:\n",
    "    !pip3 install python-terrier tira==0.0.88 ir_datasets\n",
    "else:\n",
    "    print('We are in the TIRA sandbox.')"
   ]
  },
  {
   "cell_type": "code",
   "execution_count": 4,
   "metadata": {},
   "outputs": [
    {
     "name": "stdout",
     "output_type": "stream",
     "text": [
      "Due to execution in TIRA, I have patched ir_datasets to always return the single input dataset mounted to the sandbox.\n",
      "Start PyTerrier with version=5.7, helper_version=0.0.7, no_download=True\n"
     ]
    },
    {
     "name": "stderr",
     "output_type": "stream",
     "text": [
      "PyTerrier 0.9.2 has loaded Terrier 5.7 (built by craigm on 2022-11-10 18:30) and terrier-helper 0.0.7\n",
      "\n",
      "No etc/terrier.properties, using terrier.default.properties for bootstrap configuration.\n"
     ]
    }
   ],
   "source": [
    "from tira.third_party_integrations import ensure_pyterrier_is_loaded, persist_and_normalize_run\n",
    "\n",
    "# this loads and starts pyterrier so that it also works in the TIRA\n",
    "ensure_pyterrier_is_loaded()\n",
    "\n",
    "# PyTerrier must be imported after the call to ensure_pyterrier_is_loaded in TIRA.\n",
    "import pyterrier as pt\n",
    "from pyterrier.measures import *\n",
    "\n",
    "if not pt.started():\n",
    "    pt.init(boot_packages=['mam10eks:custom-terrier-token-processing:0.0.1', 'com.github.terrierteam:terrier-prf:-SNAPSHOT'])\n",
    "    from jnius import autoclass\n"
   ]
  },
  {
   "cell_type": "markdown",
   "metadata": {},
   "source": [
    "### Step 2: Load the data"
   ]
  },
  {
   "cell_type": "code",
   "execution_count": 5,
   "metadata": {},
   "outputs": [
    {
     "name": "stdout",
     "output_type": "stream",
     "text": [
      "Load ir_dataset \"ir-lab-jena-leipzig-wise-2023/validation-20231104-training\" from tira.\n"
     ]
    }
   ],
   "source": [
    "data = pt.get_dataset('irds:ir-lab-jena-leipzig-wise-2023/validation-20231104-training')"
   ]
  },
  {
   "cell_type": "code",
   "execution_count": 6,
   "metadata": {},
   "outputs": [],
   "source": [
    "def linear_weight_function(value, max_length):\n",
    "    \"\"\"Linear weight function, which applies linearly decreasing weights.\"\"\"\n",
    "    return (-value + max_length) / max_length\n",
    "\n",
    "\n",
    "def inverse_linear_weight_function(value, max_length):\n",
    "    \"\"\"Inverse linear weight function, which applies linearly increasing weights.\"\"\"\n",
    "    return value / max_length\n",
    "\n",
    "\n",
    "def centered_parabola_weight_function(value, max_length):\n",
    "    \"\"\"Centered parabola weight function, which applies decreasing and increasing weights.\"\"\"\n",
    "    return (((value - (max_length / 2)) ** 2 + 1)) / ((-max_length / 2) ** 2 + 1)\n",
    "\n",
    "\n",
    "def inverse_centered_parabola_weight_function(value, max_length):\n",
    "    \"\"\"Inverse centered parabola function, which applies decreasing and increasing weights.\"\"\"\n",
    "    return -centered_parabola_weight_function(value, max_length) + 1\n",
    "\n",
    "\n",
    "def log_weight_function(value, max_length):\n",
    "    \"\"\"Logarithmic weight function, which applies decreasing weights.\"\"\"\n",
    "    dividend = math.log2((value + 0.1) / (value + 0.1 + max_length - 0.9))\n",
    "    divisor = math.log2(0.1 / (0.1 + max_length - 0.9))\n",
    "    return dividend / divisor\n",
    "\n",
    "\n",
    "def inverse_log_weight_function(value, max_length):\n",
    "    \"\"\"Inverse logarithmic weight functin, which applies increasing weights.\"\"\"\n",
    "    dividend = math.log2(\n",
    "        (-value + max_length + 0.1) / (-value + max_length + 0.1 + max_length - 0.9)\n",
    "    )\n",
    "    divisor = math.log2(0.1 / (0.1 + max_length - 0.9))\n",
    "    return dividend / divisor\n",
    "\n",
    "\n",
    "def english_tokenizer(string):\n",
    "    \"\"\"Tokenizes the input string according to the english terrier tokenizer and generates a list of tokens.\"\"\"\n",
    "    english_tokeniser = pt.TerrierTokeniser.english\n",
    "    english_tokeniser = pt.TerrierTokeniser._to_obj(english_tokeniser)\n",
    "    english_tokeniser = pt.TerrierTokeniser._to_class(english_tokeniser)\n",
    "\n",
    "    tokeniser = \"org.terrier.indexing.tokenisation.\" + english_tokeniser\n",
    "    tokenobj = pt.autoclass(tokeniser)()\n",
    "    _query_fn = tokenobj.getTokens\n",
    "    return _query_fn(string)\n",
    "\n",
    "\n",
    "def apply_query_term_weighing(query, weight_function):\n",
    "    query_parts = english_tokenizer(query)\n",
    "    query_length = len(query_parts)\n",
    "    weights = [weight_function(x, query_length) for x in range(query_length)]\n",
    "\n",
    "    return \" \".join(\n",
    "        [f\"{query_part}^{weight}\" for query_part, weight in zip(query_parts, weights)]\n",
    "    )"
   ]
  },
  {
   "cell_type": "code",
   "execution_count": 7,
   "metadata": {},
   "outputs": [
    {
     "name": "stdout",
     "output_type": "stream",
     "text": [
      "No settings given in /root/.tira/.tira-settings.json. I will use defaults.\n",
      "No settings given in /root/.tira/.tira-settings.json. I will use defaults.\n"
     ]
    }
   ],
   "source": [
    "solutions = []\n",
    "for solution in [\n",
    "    (\"linear\", linear_weight_function),\n",
    "    (\"inverse_linear\", inverse_linear_weight_function),\n",
    "    (\"quadratic\", centered_parabola_weight_function),\n",
    "    (\"inverse_quadratic\", inverse_centered_parabola_weight_function),\n",
    "    (\"logarithmic\", log_weight_function),\n",
    "    (\"inverse_logarithmic\", inverse_log_weight_function),\n",
    "]:\n",
    "    topics = data.get_topics(\"title\")\n",
    "    for entry in topics.iterrows():\n",
    "        query = entry[1][\"query\"]\n",
    "        query = apply_query_term_weighing(query, solution[1])\n",
    "        entry[1][\"query\"] = query\n",
    "    solutions.append((solution[0], topics))"
   ]
  },
  {
   "cell_type": "markdown",
   "metadata": {},
   "source": [
    "### Step 3: Build the Index"
   ]
  },
  {
   "cell_type": "code",
   "execution_count": 8,
   "metadata": {},
   "outputs": [
    {
     "name": "stdout",
     "output_type": "stream",
     "text": [
      "Build index:\n"
     ]
    },
    {
     "name": "stderr",
     "output_type": "stream",
     "text": [
      "207.52s - pydevd: Sending message related to process being replaced timed-out after 5 seconds\n"
     ]
    },
    {
     "name": "stdout",
     "output_type": "stream",
     "text": [
      "No settings given in /root/.tira/.tira-settings.json. I will use defaults.\n",
      "No settings given in /root/.tira/.tira-settings.json. I will use defaults.\n"
     ]
    },
    {
     "name": "stderr",
     "output_type": "stream",
     "text": [
      "ir-lab-jena-leipzig-wise-2023/validation-20231104-training documents:   0%|          | 0/61307 [00:00<?, ?it/s]"
     ]
    },
    {
     "name": "stdout",
     "output_type": "stream",
     "text": [
      "No settings given in /root/.tira/.tira-settings.json. I will use defaults.\n",
      "No settings given in /root/.tira/.tira-settings.json. I will use defaults.\n"
     ]
    },
    {
     "name": "stderr",
     "output_type": "stream",
     "text": [
      "ir-lab-jena-leipzig-wise-2023/validation-20231104-training documents: 100%|██████████| 61307/61307 [02:14<00:00, 456.40it/s]\n"
     ]
    },
    {
     "name": "stdout",
     "output_type": "stream",
     "text": [
      "Done. Index is created\n"
     ]
    }
   ],
   "source": [
    "print('Build index:')\n",
    "# Both the indexer and batch retrieve use terriers default porter stemmer and a default stopword list (englisch)\n",
    "iter_indexer = pt.IterDictIndexer(\"/tmp/index\", overwrite = True, blocks = True,meta = {'docno':100, 'text': 20480}, stemmer = 'PorterStemmer')\n",
    "!rm -Rf /tmp/index\n",
    "index_ref = iter_indexer.index(data.get_corpus_iter())\n",
    "\n",
    "print('Done. Index is created')"
   ]
  },
  {
   "cell_type": "markdown",
   "metadata": {},
   "source": [
    "### Step 4: Create the Retrieval Pipeline"
   ]
  },
  {
   "cell_type": "code",
   "execution_count": 9,
   "metadata": {},
   "outputs": [],
   "source": [
    "index = pt.IndexFactory.of(index_ref)\n",
    "\n",
    "bm25 = pt.BatchRetrieve(index, wmodel=\"BM25\", verbose=True)"
   ]
  },
  {
   "cell_type": "markdown",
   "metadata": {},
   "source": [
    "#### Step 4.1: Add Query Expansion"
   ]
  },
  {
   "cell_type": "code",
   "execution_count": 10,
   "metadata": {},
   "outputs": [],
   "source": [
    "#Pipeline\n",
    "pipe = bm25"
   ]
  },
  {
   "cell_type": "markdown",
   "metadata": {},
   "source": [
    "### Step 5: Create the Run and Persist the Run"
   ]
  },
  {
   "cell_type": "code",
   "execution_count": 11,
   "metadata": {},
   "outputs": [
    {
     "name": "stdout",
     "output_type": "stream",
     "text": [
      "Create run\n"
     ]
    },
    {
     "name": "stderr",
     "output_type": "stream",
     "text": [
      "BR(BM25): 100%|██████████| 882/882 [14:01<00:00,  1.05q/s]\n",
      "BR(BM25): 100%|██████████| 882/882 [13:02<00:00,  1.13q/s]\n",
      "BR(BM25): 100%|██████████| 882/882 [13:17<00:00,  1.11q/s]\n",
      "BR(BM25): 100%|██████████| 882/882 [14:32<00:00,  1.01q/s]\n",
      "BR(BM25): 100%|██████████| 882/882 [13:54<00:00,  1.06q/s]\n",
      "BR(BM25): 100%|██████████| 882/882 [15:50<00:00,  1.08s/q]\n",
      "BR(BM25): 100%|██████████| 882/882 [17:15<00:00,  1.17s/q]\n"
     ]
    },
    {
     "name": "stdout",
     "output_type": "stream",
     "text": [
      "Done, run was created\n"
     ]
    }
   ],
   "source": [
    "print('Create run')\n",
    "\n",
    "pipes = [pipe(solution[1]) for solution in solutions]\n",
    "\n",
    "# Add default pipe\n",
    "pipes.insert(0,pipe(data.get_topics(\"title\")))\n",
    "\n",
    "print('Done, run was created')"
   ]
  },
  {
   "cell_type": "markdown",
   "metadata": {},
   "source": [
    "### Step 6: Run Experiments"
   ]
  },
  {
   "cell_type": "code",
   "execution_count": 21,
   "metadata": {},
   "outputs": [
    {
     "name": "stdout",
     "output_type": "stream",
     "text": [
      "There are multiple query fields available: ('text', 'title', 'query', 'description', 'narrative'). To use with pyterrier, provide variant or modify dataframe to add query column.\n"
     ]
    },
    {
     "data": {
      "text/html": [
       "<div>\n",
       "<style scoped>\n",
       "    .dataframe tbody tr th:only-of-type {\n",
       "        vertical-align: middle;\n",
       "    }\n",
       "\n",
       "    .dataframe tbody tr th {\n",
       "        vertical-align: top;\n",
       "    }\n",
       "\n",
       "    .dataframe thead th {\n",
       "        text-align: right;\n",
       "    }\n",
       "</style>\n",
       "<table border=\"1\" class=\"dataframe\">\n",
       "  <thead>\n",
       "    <tr style=\"text-align: right;\">\n",
       "      <th></th>\n",
       "      <th>name</th>\n",
       "      <th>nDCG@5</th>\n",
       "      <th>nDCG@5 +</th>\n",
       "      <th>nDCG@5 -</th>\n",
       "      <th>nDCG@5 p-value</th>\n",
       "    </tr>\n",
       "  </thead>\n",
       "  <tbody>\n",
       "    <tr>\n",
       "      <th>0</th>\n",
       "      <td>BM25</td>\n",
       "      <td>0.133832</td>\n",
       "      <td>NaN</td>\n",
       "      <td>NaN</td>\n",
       "      <td>NaN</td>\n",
       "    </tr>\n",
       "    <tr>\n",
       "      <th>1</th>\n",
       "      <td>linear</td>\n",
       "      <td>0.121555</td>\n",
       "      <td>2.0</td>\n",
       "      <td>5.0</td>\n",
       "      <td>0.181516</td>\n",
       "    </tr>\n",
       "    <tr>\n",
       "      <th>2</th>\n",
       "      <td>inverse_linear</td>\n",
       "      <td>0.049922</td>\n",
       "      <td>4.0</td>\n",
       "      <td>13.0</td>\n",
       "      <td>0.011909</td>\n",
       "    </tr>\n",
       "    <tr>\n",
       "      <th>3</th>\n",
       "      <td>quadratic</td>\n",
       "      <td>0.119084</td>\n",
       "      <td>1.0</td>\n",
       "      <td>5.0</td>\n",
       "      <td>0.093741</td>\n",
       "    </tr>\n",
       "    <tr>\n",
       "      <th>4</th>\n",
       "      <td>inverse_quadratic</td>\n",
       "      <td>0.048588</td>\n",
       "      <td>4.0</td>\n",
       "      <td>13.0</td>\n",
       "      <td>0.010434</td>\n",
       "    </tr>\n",
       "    <tr>\n",
       "      <th>5</th>\n",
       "      <td>logarithmic</td>\n",
       "      <td>0.119049</td>\n",
       "      <td>4.0</td>\n",
       "      <td>7.0</td>\n",
       "      <td>0.215296</td>\n",
       "    </tr>\n",
       "    <tr>\n",
       "      <th>6</th>\n",
       "      <td>inverse_logarithmic</td>\n",
       "      <td>0.143178</td>\n",
       "      <td>4.0</td>\n",
       "      <td>1.0</td>\n",
       "      <td>0.467332</td>\n",
       "    </tr>\n",
       "  </tbody>\n",
       "</table>\n",
       "</div>"
      ],
      "text/plain": [
       "                  name    nDCG@5  nDCG@5 +  nDCG@5 -  nDCG@5 p-value\n",
       "0                 BM25  0.133832       NaN       NaN             NaN\n",
       "1               linear  0.121555       2.0       5.0        0.181516\n",
       "2       inverse_linear  0.049922       4.0      13.0        0.011909\n",
       "3            quadratic  0.119084       1.0       5.0        0.093741\n",
       "4    inverse_quadratic  0.048588       4.0      13.0        0.010434\n",
       "5          logarithmic  0.119049       4.0       7.0        0.215296\n",
       "6  inverse_logarithmic  0.143178       4.0       1.0        0.467332"
      ]
     },
     "execution_count": 21,
     "metadata": {},
     "output_type": "execute_result"
    }
   ],
   "source": [
    "# Doesn't work in TIRA, only for local testing\n",
    "names = [\"BM25\"]\n",
    "names.extend([solution[0] for solution in solutions])\n",
    "pt.Experiment(\n",
    "   pipes,\n",
    "   data.get_topics()[:50],\n",
    "   data.get_qrels(),\n",
    "   eval_metrics=[nDCG@5],\n",
    "   names=names,\n",
    "   baseline=0\n",
    ")"
   ]
  },
  {
   "cell_type": "code",
   "execution_count": 23,
   "metadata": {},
   "outputs": [
    {
     "name": "stdout",
     "output_type": "stream",
     "text": [
      "I use the environment variable \"TIRA_OUTPUT_DIR\" to determine where I should store the run file using \".\" as default.\n",
      "Done. run file is stored under \"./run.txt\".\n"
     ]
    }
   ],
   "source": [
    "persist_and_normalize_run(pipes[0], 'bm25-query-term-weighing')"
   ]
  }
 ],
 "metadata": {
  "kernelspec": {
   "display_name": "Python 3 (ipykernel)",
   "language": "python",
   "name": "python3"
  },
  "language_info": {
   "codemirror_mode": {
    "name": "ipython",
    "version": 3
   },
   "file_extension": ".py",
   "mimetype": "text/x-python",
   "name": "python",
   "nbconvert_exporter": "python",
   "pygments_lexer": "ipython3",
   "version": "3.7.13"
  },
  "orig_nbformat": 4
 },
 "nbformat": 4,
 "nbformat_minor": 2
}
